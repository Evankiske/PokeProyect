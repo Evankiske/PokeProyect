{
 "cells": [
  {
   "cell_type": "code",
   "execution_count": 48,
   "metadata": {},
   "outputs": [],
   "source": [
    "import pandas as pd\n",
    "import numpy as np\n",
    "\n",
    "from sklearn.ensemble import RandomForestClassifier\n",
    "from sklearn.model_selection import train_test_split\n",
    "from sklearn.metrics import mean_squared_error, mean_absolute_error, r2_score\n",
    "from sklearn.model_selection import cross_val_score"
   ]
  },
  {
   "cell_type": "code",
   "execution_count": 39,
   "metadata": {},
   "outputs": [],
   "source": [
    "df = pd.read_csv('Pokemon.csv')\n",
    "combats = pd.read_csv('combats.csv')\n",
    "test = pd.read_csv('tests.csv')"
   ]
  },
  {
   "cell_type": "code",
   "execution_count": 27,
   "metadata": {},
   "outputs": [],
   "source": [
    "pokemon = df.filter([\"Name\",\"HP\",\"Attack\",\"Defense\",\"Sp.Atk\",\"Sp.Def\",\"Speed\"], axis=1)"
   ]
  },
  {
   "cell_type": "code",
   "execution_count": 69,
   "metadata": {},
   "outputs": [
    {
     "data": {
      "text/html": [
       "<div>\n",
       "<style scoped>\n",
       "    .dataframe tbody tr th:only-of-type {\n",
       "        vertical-align: middle;\n",
       "    }\n",
       "\n",
       "    .dataframe tbody tr th {\n",
       "        vertical-align: top;\n",
       "    }\n",
       "\n",
       "    .dataframe thead th {\n",
       "        text-align: right;\n",
       "    }\n",
       "</style>\n",
       "<table border=\"1\" class=\"dataframe\">\n",
       "  <thead>\n",
       "    <tr style=\"text-align: right;\">\n",
       "      <th></th>\n",
       "      <th>First_pokemon</th>\n",
       "      <th>Second_pokemon</th>\n",
       "      <th>Winner</th>\n",
       "    </tr>\n",
       "  </thead>\n",
       "  <tbody>\n",
       "    <tr>\n",
       "      <th>0</th>\n",
       "      <td>Beautifly</td>\n",
       "      <td>Nosepass</td>\n",
       "      <td>Nosepass</td>\n",
       "    </tr>\n",
       "    <tr>\n",
       "      <th>1</th>\n",
       "      <td>Carbink</td>\n",
       "      <td>Dedenne</td>\n",
       "      <td>Dedenne</td>\n",
       "    </tr>\n",
       "    <tr>\n",
       "      <th>2</th>\n",
       "      <td>Sunflora</td>\n",
       "      <td>Flabébé</td>\n",
       "      <td>Flabébé</td>\n",
       "    </tr>\n",
       "    <tr>\n",
       "      <th>3</th>\n",
       "      <td>Smoochum</td>\n",
       "      <td>Swirlix</td>\n",
       "      <td>Swirlix</td>\n",
       "    </tr>\n",
       "    <tr>\n",
       "      <th>4</th>\n",
       "      <td>Chikorita</td>\n",
       "      <td>Donphan</td>\n",
       "      <td>Chikorita</td>\n",
       "    </tr>\n",
       "  </tbody>\n",
       "</table>\n",
       "</div>"
      ],
      "text/plain": [
       "  First_pokemon Second_pokemon     Winner\n",
       "0     Beautifly       Nosepass   Nosepass\n",
       "1       Carbink        Dedenne    Dedenne\n",
       "2      Sunflora        Flabébé    Flabébé\n",
       "3      Smoochum        Swirlix    Swirlix\n",
       "4     Chikorita        Donphan  Chikorita"
      ]
     },
     "execution_count": 69,
     "metadata": {},
     "output_type": "execute_result"
    }
   ],
   "source": [
    "cols = [\"First_pokemon\",\"Second_pokemon\",\"Winner\"]\n",
    "fights = combats[cols].replace(pokemon.Name)\n",
    "fights.head()"
   ]
  },
  {
   "cell_type": "code",
   "execution_count": 74,
   "metadata": {},
   "outputs": [],
   "source": [
    "fights.to_csv('fights.csv')"
   ]
  },
  {
   "cell_type": "code",
   "execution_count": 23,
   "metadata": {},
   "outputs": [],
   "source": [
    "combats.Winner[combats.Winner == combats.First_pokemon] = 0\n",
    "combats.Winner[combats.Winner == combats.Second_pokemon] = 1"
   ]
  },
  {
   "cell_type": "code",
   "execution_count": 29,
   "metadata": {},
   "outputs": [],
   "source": [
    "def normalization(data_df):\n",
    "    stats=[\"HP\",\"Attack\",\"Defense\",\"Sp.Atk\",\"Sp.Def\",\"Speed\"]\n",
    "    stats_df=pokemon[stats].T.to_dict(\"list\")\n",
    "    one=data_df.First_pokemon.map(stats_df)\n",
    "    two=data_df.Second_pokemon.map(stats_df)\n",
    "    temp_list=[]\n",
    "    for i in range(len(one)):\n",
    "        temp_list.append(np.array(one[i])-np.array(two[i]))\n",
    "    new_test = pd.DataFrame(temp_list, columns=stats)\n",
    "    for c in stats:\n",
    "        description=new_test[c].describe()\n",
    "        new_test[c]=(new_test[c]-description['min'])/(description['max']-description['min'])\n",
    "    return new_test"
   ]
  },
  {
   "cell_type": "code",
   "execution_count": 30,
   "metadata": {},
   "outputs": [],
   "source": [
    "data = normalization(combats)\n",
    "data = pd.concat([data, combats.Winner], axis=1)"
   ]
  },
  {
   "cell_type": "code",
   "execution_count": 32,
   "metadata": {},
   "outputs": [],
   "source": [
    "X=data.drop(\"Winner\",axis=1)\n",
    "y=data[\"Winner\"]"
   ]
  },
  {
   "cell_type": "code",
   "execution_count": 53,
   "metadata": {},
   "outputs": [],
   "source": [
    "X_train, X_test, y_train, y_test = train_test_split(X, y, test_size=0.25, random_state=40)"
   ]
  },
  {
   "cell_type": "code",
   "execution_count": 60,
   "metadata": {},
   "outputs": [
    {
     "name": "stderr",
     "output_type": "stream",
     "text": [
      "[Parallel(n_jobs=1)]: Using backend SequentialBackend with 1 concurrent workers.\n",
      "[Parallel(n_jobs=1)]: Done   5 out of   5 | elapsed:   12.6s finished\n"
     ]
    },
    {
     "name": "stdout",
     "output_type": "stream",
     "text": [
      "\n",
      "####### RandomForestClassifier #######\n",
      "Score : 0.5639\n",
      "[0.54726037 0.56853333 0.55426667 0.5536     0.56514202]\n",
      "\n",
      "MSE    : 0.44 \n",
      "MAE    : 0.44 \n",
      "RMSE   : 0.66 \n",
      "R2     : -0.75 \n"
     ]
    }
   ],
   "source": [
    "clf_rfc = RandomForestClassifier(n_estimators=50)\n",
    "clf_rfc.fit(X_train, y_train)\n",
    "accuracies = cross_val_score(estimator = clf_rfc, X = X_train, y = y_train, cv = 5,verbose = 1)\n",
    "y_pred = clf_rfc.predict(X_test)\n",
    "\n",
    "print('')\n",
    "print('####### RandomForestClassifier #######')\n",
    "print('Score : %.4f' % clf_rfc.score(X_test, y_test))\n",
    "print(accuracies)\n",
    "\n",
    "mse = mean_squared_error(y_test, y_pred)\n",
    "mae = mean_absolute_error(y_test, y_pred)\n",
    "rmse = mean_squared_error(y_test, y_pred)**0.5\n",
    "r2 = r2_score(y_test, y_pred)\n",
    "\n",
    "print('')\n",
    "print('MSE    : %0.2f ' % mse)\n",
    "print('MAE    : %0.2f ' % mae)\n",
    "print('RMSE   : %0.2f ' % rmse)"
   ]
  },
  {
   "cell_type": "code",
   "execution_count": 71,
   "metadata": {},
   "outputs": [
    {
     "data": {
      "text/html": [
       "<div>\n",
       "<style scoped>\n",
       "    .dataframe tbody tr th:only-of-type {\n",
       "        vertical-align: middle;\n",
       "    }\n",
       "\n",
       "    .dataframe tbody tr th {\n",
       "        vertical-align: top;\n",
       "    }\n",
       "\n",
       "    .dataframe thead th {\n",
       "        text-align: right;\n",
       "    }\n",
       "</style>\n",
       "<table border=\"1\" class=\"dataframe\">\n",
       "  <thead>\n",
       "    <tr style=\"text-align: right;\">\n",
       "      <th></th>\n",
       "      <th>First_pokemon</th>\n",
       "      <th>Second_pokemon</th>\n",
       "    </tr>\n",
       "  </thead>\n",
       "  <tbody>\n",
       "    <tr>\n",
       "      <th>0</th>\n",
       "      <td>Gyarados</td>\n",
       "      <td>Goldeen</td>\n",
       "    </tr>\n",
       "    <tr>\n",
       "      <th>1</th>\n",
       "      <td>Fletchling</td>\n",
       "      <td>Scizor</td>\n",
       "    </tr>\n",
       "    <tr>\n",
       "      <th>2</th>\n",
       "      <td>Klefki</td>\n",
       "      <td>Horsea</td>\n",
       "    </tr>\n",
       "    <tr>\n",
       "      <th>3</th>\n",
       "      <td>Espeon</td>\n",
       "      <td>Mienfoo</td>\n",
       "    </tr>\n",
       "    <tr>\n",
       "      <th>4</th>\n",
       "      <td>Sandslash</td>\n",
       "      <td>Frogadier</td>\n",
       "    </tr>\n",
       "  </tbody>\n",
       "</table>\n",
       "</div>"
      ],
      "text/plain": [
       "  First_pokemon Second_pokemon\n",
       "0      Gyarados        Goldeen\n",
       "1    Fletchling         Scizor\n",
       "2        Klefki         Horsea\n",
       "3        Espeon        Mienfoo\n",
       "4     Sandslash      Frogadier"
      ]
     },
     "execution_count": 71,
     "metadata": {},
     "output_type": "execute_result"
    }
   ],
   "source": [
    "new_test_data=test[[\"First_pokemon\",\"Second_pokemon\"]].replace(pokemon.Name)\n",
    "new_test_data.head()"
   ]
  },
  {
   "cell_type": "code",
   "execution_count": 72,
   "metadata": {},
   "outputs": [],
   "source": [
    "final_data=normalization(test)\n",
    "pred=clf_rfc.predict(final_data)\n",
    "test[\"Winner\"]=[test[\"First_pokemon\"][i] if pred[i]==0 else test[\"Second_pokemon\"][i] for i in range(len(pred))]"
   ]
  },
  {
   "cell_type": "code",
   "execution_count": 73,
   "metadata": {},
   "outputs": [
    {
     "data": {
      "text/html": [
       "<div>\n",
       "<style scoped>\n",
       "    .dataframe tbody tr th:only-of-type {\n",
       "        vertical-align: middle;\n",
       "    }\n",
       "\n",
       "    .dataframe tbody tr th {\n",
       "        vertical-align: top;\n",
       "    }\n",
       "\n",
       "    .dataframe thead th {\n",
       "        text-align: right;\n",
       "    }\n",
       "</style>\n",
       "<table border=\"1\" class=\"dataframe\">\n",
       "  <thead>\n",
       "    <tr style=\"text-align: right;\">\n",
       "      <th></th>\n",
       "      <th>First_pokemon</th>\n",
       "      <th>Second_pokemon</th>\n",
       "      <th>Winner</th>\n",
       "    </tr>\n",
       "  </thead>\n",
       "  <tbody>\n",
       "    <tr>\n",
       "      <th>0</th>\n",
       "      <td>Gyarados</td>\n",
       "      <td>Goldeen</td>\n",
       "      <td>Goldeen</td>\n",
       "    </tr>\n",
       "    <tr>\n",
       "      <th>1</th>\n",
       "      <td>Fletchling</td>\n",
       "      <td>Scizor</td>\n",
       "      <td>Fletchling</td>\n",
       "    </tr>\n",
       "    <tr>\n",
       "      <th>2</th>\n",
       "      <td>Klefki</td>\n",
       "      <td>Horsea</td>\n",
       "      <td>Horsea</td>\n",
       "    </tr>\n",
       "    <tr>\n",
       "      <th>3</th>\n",
       "      <td>Espeon</td>\n",
       "      <td>Mienfoo</td>\n",
       "      <td>Espeon</td>\n",
       "    </tr>\n",
       "    <tr>\n",
       "      <th>4</th>\n",
       "      <td>Sandslash</td>\n",
       "      <td>Frogadier</td>\n",
       "      <td>Sandslash</td>\n",
       "    </tr>\n",
       "  </tbody>\n",
       "</table>\n",
       "</div>"
      ],
      "text/plain": [
       "  First_pokemon Second_pokemon      Winner\n",
       "0      Gyarados        Goldeen     Goldeen\n",
       "1    Fletchling         Scizor  Fletchling\n",
       "2        Klefki         Horsea      Horsea\n",
       "3        Espeon        Mienfoo      Espeon\n",
       "4     Sandslash      Frogadier   Sandslash"
      ]
     },
     "execution_count": 73,
     "metadata": {},
     "output_type": "execute_result"
    }
   ],
   "source": [
    "combats_name = test[cols].replace(pokemon.Name)\n",
    "combats_name.head()"
   ]
  },
  {
   "cell_type": "code",
   "execution_count": null,
   "metadata": {},
   "outputs": [],
   "source": []
  }
 ],
 "metadata": {
  "kernelspec": {
   "display_name": "Python 3",
   "language": "python",
   "name": "python3"
  },
  "language_info": {
   "codemirror_mode": {
    "name": "ipython",
    "version": 3
   },
   "file_extension": ".py",
   "mimetype": "text/x-python",
   "name": "python",
   "nbconvert_exporter": "python",
   "pygments_lexer": "ipython3",
   "version": "3.7.3"
  }
 },
 "nbformat": 4,
 "nbformat_minor": 2
}
