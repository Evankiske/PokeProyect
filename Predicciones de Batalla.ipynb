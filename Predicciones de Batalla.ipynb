{
 "cells": [
  {
   "cell_type": "code",
   "execution_count": 1,
   "metadata": {},
   "outputs": [],
   "source": [
    "#Importamos las librerias a usar\n",
    "import pandas as pd\n",
    "import numpy as np\n",
    "\n",
    "from sklearn.ensemble import RandomForestClassifier\n",
    "from sklearn.model_selection import train_test_split\n",
    "from sklearn.metrics import mean_squared_error, mean_absolute_error, r2_score\n",
    "from sklearn.model_selection import cross_val_score"
   ]
  },
  {
   "cell_type": "code",
   "execution_count": 2,
   "metadata": {},
   "outputs": [],
   "source": [
    "#Leemos nuestros DataFrames a utilizar\n",
    "df = pd.read_csv('Pokemon.csv')\n",
    "combats = pd.read_csv('Combat1.csv')\n",
    "test = pd.read_csv('tests.csv')"
   ]
  },
  {
   "cell_type": "code",
   "execution_count": 3,
   "metadata": {},
   "outputs": [],
   "source": [
    "test3 = test.copy()"
   ]
  },
  {
   "cell_type": "code",
   "execution_count": 5,
   "metadata": {},
   "outputs": [],
   "source": [
    "#Reasignamos el nombre a la columna # para facil manipulacion\n",
    "df.rename(columns={'#':'Num'}, inplace=True)"
   ]
  },
  {
   "cell_type": "code",
   "execution_count": 6,
   "metadata": {},
   "outputs": [],
   "source": [
    "#Re Asignamos el index para el correcto manejo de la base\n",
    "df.set_index(df.Num, inplace=True)"
   ]
  },
  {
   "cell_type": "code",
   "execution_count": 7,
   "metadata": {},
   "outputs": [
    {
     "data": {
      "text/html": [
       "<div>\n",
       "<style scoped>\n",
       "    .dataframe tbody tr th:only-of-type {\n",
       "        vertical-align: middle;\n",
       "    }\n",
       "\n",
       "    .dataframe tbody tr th {\n",
       "        vertical-align: top;\n",
       "    }\n",
       "\n",
       "    .dataframe thead th {\n",
       "        text-align: right;\n",
       "    }\n",
       "</style>\n",
       "<table border=\"1\" class=\"dataframe\">\n",
       "  <thead>\n",
       "    <tr style=\"text-align: right;\">\n",
       "      <th></th>\n",
       "      <th>Name</th>\n",
       "      <th>HP</th>\n",
       "      <th>Attack</th>\n",
       "      <th>Defense</th>\n",
       "      <th>Sp.Atk</th>\n",
       "      <th>Sp.Def</th>\n",
       "      <th>Speed</th>\n",
       "    </tr>\n",
       "    <tr>\n",
       "      <th>Num</th>\n",
       "      <th></th>\n",
       "      <th></th>\n",
       "      <th></th>\n",
       "      <th></th>\n",
       "      <th></th>\n",
       "      <th></th>\n",
       "      <th></th>\n",
       "    </tr>\n",
       "  </thead>\n",
       "  <tbody>\n",
       "    <tr>\n",
       "      <th>1</th>\n",
       "      <td>Bulbasaur</td>\n",
       "      <td>45</td>\n",
       "      <td>49</td>\n",
       "      <td>49</td>\n",
       "      <td>65</td>\n",
       "      <td>65</td>\n",
       "      <td>45</td>\n",
       "    </tr>\n",
       "    <tr>\n",
       "      <th>2</th>\n",
       "      <td>Ivysaur</td>\n",
       "      <td>60</td>\n",
       "      <td>62</td>\n",
       "      <td>63</td>\n",
       "      <td>80</td>\n",
       "      <td>80</td>\n",
       "      <td>60</td>\n",
       "    </tr>\n",
       "    <tr>\n",
       "      <th>3</th>\n",
       "      <td>Venusaur</td>\n",
       "      <td>80</td>\n",
       "      <td>82</td>\n",
       "      <td>83</td>\n",
       "      <td>100</td>\n",
       "      <td>100</td>\n",
       "      <td>80</td>\n",
       "    </tr>\n",
       "    <tr>\n",
       "      <th>4</th>\n",
       "      <td>Charmander</td>\n",
       "      <td>39</td>\n",
       "      <td>52</td>\n",
       "      <td>43</td>\n",
       "      <td>60</td>\n",
       "      <td>50</td>\n",
       "      <td>65</td>\n",
       "    </tr>\n",
       "    <tr>\n",
       "      <th>5</th>\n",
       "      <td>Charmeleon</td>\n",
       "      <td>58</td>\n",
       "      <td>64</td>\n",
       "      <td>58</td>\n",
       "      <td>80</td>\n",
       "      <td>65</td>\n",
       "      <td>80</td>\n",
       "    </tr>\n",
       "  </tbody>\n",
       "</table>\n",
       "</div>"
      ],
      "text/plain": [
       "           Name  HP  Attack  Defense  Sp.Atk  Sp.Def  Speed\n",
       "Num                                                        \n",
       "1     Bulbasaur  45      49       49      65      65     45\n",
       "2       Ivysaur  60      62       63      80      80     60\n",
       "3      Venusaur  80      82       83     100     100     80\n",
       "4    Charmander  39      52       43      60      50     65\n",
       "5    Charmeleon  58      64       58      80      65     80"
      ]
     },
     "execution_count": 7,
     "metadata": {},
     "output_type": "execute_result"
    }
   ],
   "source": [
    "#Creamos un nuevo DataSet con las columnas que vamos a usar\n",
    "poke = df.filter([\"Name\",\"HP\",\"Attack\",\"Defense\",\"Sp.Atk\",\"Sp.Def\",\"Speed\"], axis=1)\n",
    "poke.head()"
   ]
  },
  {
   "cell_type": "code",
   "execution_count": 8,
   "metadata": {},
   "outputs": [
    {
     "data": {
      "text/html": [
       "<div>\n",
       "<style scoped>\n",
       "    .dataframe tbody tr th:only-of-type {\n",
       "        vertical-align: middle;\n",
       "    }\n",
       "\n",
       "    .dataframe tbody tr th {\n",
       "        vertical-align: top;\n",
       "    }\n",
       "\n",
       "    .dataframe thead th {\n",
       "        text-align: right;\n",
       "    }\n",
       "</style>\n",
       "<table border=\"1\" class=\"dataframe\">\n",
       "  <thead>\n",
       "    <tr style=\"text-align: right;\">\n",
       "      <th></th>\n",
       "      <th>First_pokemon</th>\n",
       "      <th>Second_pokemon</th>\n",
       "      <th>Winner</th>\n",
       "    </tr>\n",
       "  </thead>\n",
       "  <tbody>\n",
       "    <tr>\n",
       "      <th>0</th>\n",
       "      <td>Larvitar</td>\n",
       "      <td>Nuzleaf</td>\n",
       "      <td>Nuzleaf</td>\n",
       "    </tr>\n",
       "    <tr>\n",
       "      <th>1</th>\n",
       "      <td>Virizion</td>\n",
       "      <td>Terrakion</td>\n",
       "      <td>Terrakion</td>\n",
       "    </tr>\n",
       "    <tr>\n",
       "      <th>2</th>\n",
       "      <td>Togetic</td>\n",
       "      <td>Beheeyem</td>\n",
       "      <td>Beheeyem</td>\n",
       "    </tr>\n",
       "    <tr>\n",
       "      <th>3</th>\n",
       "      <td>Slugma</td>\n",
       "      <td>Druddigon</td>\n",
       "      <td>Druddigon</td>\n",
       "    </tr>\n",
       "    <tr>\n",
       "      <th>4</th>\n",
       "      <td>Omastar</td>\n",
       "      <td>Shuckle</td>\n",
       "      <td>Omastar</td>\n",
       "    </tr>\n",
       "  </tbody>\n",
       "</table>\n",
       "</div>"
      ],
      "text/plain": [
       "  First_pokemon Second_pokemon     Winner\n",
       "0      Larvitar        Nuzleaf    Nuzleaf\n",
       "1      Virizion      Terrakion  Terrakion\n",
       "2       Togetic       Beheeyem   Beheeyem\n",
       "3        Slugma      Druddigon  Druddigon\n",
       "4       Omastar        Shuckle    Omastar"
      ]
     },
     "execution_count": 8,
     "metadata": {},
     "output_type": "execute_result"
    }
   ],
   "source": [
    "#Remplazamos los numeros con el nombre del pokemon correspondiente\n",
    "cols = [\"First_pokemon\",\"Second_pokemon\",\"Winner\"]\n",
    "fights = combats[cols].replace(df.Name)\n",
    "fights.head()"
   ]
  },
  {
   "cell_type": "code",
   "execution_count": 9,
   "metadata": {},
   "outputs": [],
   "source": [
    "#Transformamos en boleano nuestro resultado del combate\n",
    "combats.Winner[combats.Winner == combats.First_pokemon] = 0\n",
    "combats.Winner[combats.Winner == combats.Second_pokemon] = 1"
   ]
  },
  {
   "cell_type": "code",
   "execution_count": 10,
   "metadata": {},
   "outputs": [],
   "source": [
    "#Creamos una funcion de normalizacion para los datos que usaremos\n",
    "#Fue robada de internet y modificada por su servidor\n",
    "def norm(data_df):\n",
    "    stats=[\"HP\",\"Attack\",\"Defense\",\"Sp.Atk\",\"Sp.Def\",\"Speed\"]\n",
    "    stats_df=poke[stats].T.to_dict(\"list\")\n",
    "    first=data_df.First_pokemon.map(stats_df)\n",
    "    second=data_df.Second_pokemon.map(stats_df)\n",
    "    lista=[]\n",
    "    for i in range(len(first)):\n",
    "        lista.append(np.array(first[i])-np.array(second[i]))\n",
    "    new_test = pd.DataFrame(lista, columns=stats)\n",
    "    for c in stats:\n",
    "        description=new_test[c].describe()\n",
    "        new_test[c]=(new_test[c]-description['min'])/(description['max']-description['min'])\n",
    "    return new_test"
   ]
  },
  {
   "cell_type": "code",
   "execution_count": 11,
   "metadata": {},
   "outputs": [],
   "source": [
    "#Aplicamos la funcion y creamos un nuevo DataSet\n",
    "#Concatenamos las dos tablas\n",
    "data = norm(combats)\n",
    "data = pd.concat([data, combats.Winner], axis=1)"
   ]
  },
  {
   "cell_type": "code",
   "execution_count": 12,
   "metadata": {},
   "outputs": [],
   "source": [
    "#Usamos la columna Winner para hacer nuestro testeo\n",
    "X=data.drop(\"Winner\",axis=1)\n",
    "y=data[\"Winner\"]"
   ]
  },
  {
   "cell_type": "code",
   "execution_count": 13,
   "metadata": {},
   "outputs": [],
   "source": [
    "#Definimos el train y asignamos el size\n",
    "X_train, X_test, y_train, y_test = train_test_split(X, y, test_size=0.2)\n"
   ]
  },
  {
   "cell_type": "code",
   "execution_count": 14,
   "metadata": {},
   "outputs": [
    {
     "name": "stderr",
     "output_type": "stream",
     "text": [
      "[Parallel(n_jobs=1)]: Using backend SequentialBackend with 1 concurrent workers.\n"
     ]
    },
    {
     "name": "stdout",
     "output_type": "stream",
     "text": [
      "\n",
      "####### RandomForestClassifier #######\n",
      "Score : 0.9466\n",
      "[0.94760227 0.95173893 0.94928757 0.9501992  0.94881226]\n",
      "\n",
      "MSE    : 0.05 \n",
      "MAE    : 0.05 \n",
      "RMSE   : 0.23 \n",
      "R2     : 0.79 \n"
     ]
    },
    {
     "name": "stderr",
     "output_type": "stream",
     "text": [
      "[Parallel(n_jobs=1)]: Done   5 out of   5 | elapsed:    6.4s finished\n"
     ]
    }
   ],
   "source": [
    "#Aplicamos modelo de ML para predecir (en el testeo original se usaron 5 y este fue el que mas me agrado)\n",
    "clf_rfc = RandomForestClassifier(n_estimators=50)\n",
    "clf_rfc.fit(X_train, y_train)\n",
    "accuracies = cross_val_score(estimator = clf_rfc, X = X_train, y = y_train, cv = 5,verbose = 1)\n",
    "y_pred = clf_rfc.predict(X_test)\n",
    "\n",
    "print('')\n",
    "print('####### RandomForestClassifier #######')\n",
    "print('Score : %.4f' % clf_rfc.score(X_test, y_test))\n",
    "print(accuracies)\n",
    "\n",
    "mse = mean_squared_error(y_test, y_pred)\n",
    "mae = mean_absolute_error(y_test, y_pred)\n",
    "rmse = mean_squared_error(y_test, y_pred)**0.5\n",
    "r2 = r2_score(y_test, y_pred)\n",
    "\n",
    "print('')\n",
    "print('MSE    : %0.2f ' % mse)\n",
    "print('MAE    : %0.2f ' % mae)\n",
    "print('RMSE   : %0.2f ' % rmse)\n",
    "print('R2     : %0.2f ' % r2)"
   ]
  },
  {
   "cell_type": "code",
   "execution_count": 15,
   "metadata": {},
   "outputs": [],
   "source": [
    "#Aplicamos modelo de ML a nuestro test para predecir las victorias\n",
    "#battle=norm(test)\n",
    "#pred=clf_rfc.predict(battle)\n",
    "#test[\"Winner\"]=[test[\"First_pokemon\"][i] if pred[i]==0 else test[\"Second_pokemon\"][i] for i in range(len(pred))]"
   ]
  },
  {
   "cell_type": "code",
   "execution_count": 16,
   "metadata": {},
   "outputs": [
    {
     "data": {
      "text/html": [
       "<div>\n",
       "<style scoped>\n",
       "    .dataframe tbody tr th:only-of-type {\n",
       "        vertical-align: middle;\n",
       "    }\n",
       "\n",
       "    .dataframe tbody tr th {\n",
       "        vertical-align: top;\n",
       "    }\n",
       "\n",
       "    .dataframe thead th {\n",
       "        text-align: right;\n",
       "    }\n",
       "</style>\n",
       "<table border=\"1\" class=\"dataframe\">\n",
       "  <thead>\n",
       "    <tr style=\"text-align: right;\">\n",
       "      <th></th>\n",
       "      <th>First_pokemon</th>\n",
       "      <th>Second_pokemon</th>\n",
       "      <th>Winner</th>\n",
       "    </tr>\n",
       "  </thead>\n",
       "  <tbody>\n",
       "    <tr>\n",
       "      <th>0</th>\n",
       "      <td>Magikarp</td>\n",
       "      <td>Seadra</td>\n",
       "      <td>Seadra</td>\n",
       "    </tr>\n",
       "    <tr>\n",
       "      <th>1</th>\n",
       "      <td>Diggersby</td>\n",
       "      <td>Qwilfish</td>\n",
       "      <td>Qwilfish</td>\n",
       "    </tr>\n",
       "    <tr>\n",
       "      <th>2</th>\n",
       "      <td>Goodra</td>\n",
       "      <td>Kangaskhan</td>\n",
       "      <td>Kangaskhan</td>\n",
       "    </tr>\n",
       "    <tr>\n",
       "      <th>3</th>\n",
       "      <td>Quagsire</td>\n",
       "      <td>Stunfisk</td>\n",
       "      <td>Quagsire</td>\n",
       "    </tr>\n",
       "    <tr>\n",
       "      <th>4</th>\n",
       "      <td>Sandshrew</td>\n",
       "      <td>Froakie</td>\n",
       "      <td>Froakie</td>\n",
       "    </tr>\n",
       "  </tbody>\n",
       "</table>\n",
       "</div>"
      ],
      "text/plain": [
       "  First_pokemon Second_pokemon      Winner\n",
       "0      Magikarp         Seadra      Seadra\n",
       "1     Diggersby       Qwilfish    Qwilfish\n",
       "2        Goodra     Kangaskhan  Kangaskhan\n",
       "3      Quagsire       Stunfisk    Quagsire\n",
       "4     Sandshrew        Froakie     Froakie"
      ]
     },
     "execution_count": 16,
     "metadata": {},
     "output_type": "execute_result"
    }
   ],
   "source": [
    "#Remplazamos los numeros por nombres eh imprimimos los resultados de las batallas\n",
    "#final = test[cols].replace(poke.Name)\n",
    "#final.head()"
   ]
  },
  {
   "cell_type": "code",
   "execution_count": 35,
   "metadata": {},
   "outputs": [
    {
     "name": "stdout",
     "output_type": "stream",
     "text": [
      "Pick a First Pokemon Betwen 1-809\n",
      "249\n",
      "Pick a Second Pokemon Betwen 1-809\n",
      "150\n"
     ]
    }
   ],
   "source": [
    "print('Pick a First Pokemon Betwen 1-809')\n",
    "First = int(input())\n",
    "print('Pick a Second Pokemon Betwen 1-809')\n",
    "Second = int(input())"
   ]
  },
  {
   "cell_type": "code",
   "execution_count": 36,
   "metadata": {},
   "outputs": [
    {
     "data": {
      "text/html": [
       "<div>\n",
       "<style scoped>\n",
       "    .dataframe tbody tr th:only-of-type {\n",
       "        vertical-align: middle;\n",
       "    }\n",
       "\n",
       "    .dataframe tbody tr th {\n",
       "        vertical-align: top;\n",
       "    }\n",
       "\n",
       "    .dataframe thead th {\n",
       "        text-align: right;\n",
       "    }\n",
       "</style>\n",
       "<table border=\"1\" class=\"dataframe\">\n",
       "  <thead>\n",
       "    <tr style=\"text-align: right;\">\n",
       "      <th></th>\n",
       "      <th>First_pokemon</th>\n",
       "      <th>Second_pokemon</th>\n",
       "      <th>Winner</th>\n",
       "    </tr>\n",
       "  </thead>\n",
       "  <tbody>\n",
       "    <tr>\n",
       "      <th>10000</th>\n",
       "      <td>Lugia</td>\n",
       "      <td>Mewtwo</td>\n",
       "      <td>Mewtwo</td>\n",
       "    </tr>\n",
       "  </tbody>\n",
       "</table>\n",
       "</div>"
      ],
      "text/plain": [
       "      First_pokemon Second_pokemon  Winner\n",
       "10000         Lugia         Mewtwo  Mewtwo"
      ]
     },
     "execution_count": 36,
     "metadata": {},
     "output_type": "execute_result"
    }
   ],
   "source": [
    "simple_list=[[First, Second]]\n",
    "test2=pd.DataFrame(simple_list,columns=['First_pokemon','Second_pokemon'])\n",
    "test4 = test3.append(test2, ignore_index=True)\n",
    "battle2=norm(test4)\n",
    "pred=clf_rfc.predict(battle2)\n",
    "test4[\"Winner\"]=[test4[\"First_pokemon\"][i] if pred[i]==0 else test4[\"Second_pokemon\"][i] for i in range(len(pred))]\n",
    "final1 = test4[cols].replace(poke.Name)\n",
    "final1.tail(1)"
   ]
  },
  {
   "cell_type": "code",
   "execution_count": null,
   "metadata": {},
   "outputs": [],
   "source": []
  }
 ],
 "metadata": {
  "kernelspec": {
   "display_name": "Python 3",
   "language": "python",
   "name": "python3"
  },
  "language_info": {
   "codemirror_mode": {
    "name": "ipython",
    "version": 3
   },
   "file_extension": ".py",
   "mimetype": "text/x-python",
   "name": "python",
   "nbconvert_exporter": "python",
   "pygments_lexer": "ipython3",
   "version": "3.7.3"
  }
 },
 "nbformat": 4,
 "nbformat_minor": 2
}
